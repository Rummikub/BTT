{
 "cells": [
  {
   "cell_type": "markdown",
   "metadata": {},
   "source": [
    "# Lab 8: Implement Your Machine Learning Project Plan"
   ]
  },
  {
   "cell_type": "markdown",
   "metadata": {},
   "source": [
    "In this lab assignment, you will implement the machine learning project plan you created in the written assignment. You will:\n",
    "\n",
    "1. Load your data set and save it to a Pandas DataFrame.\n",
    "2. Perform exploratory data analysis on your data to determine which feature engineering and data preparation techniques you will use.\n",
    "3. Prepare your data for your model and create features and a label.\n",
    "4. Fit your model to the training data and evaluate your model.\n",
    "5. Improve your model by performing model selection and/or feature selection techniques to find best model for your problem.\n,
"I have set up the Python repository and prepared to consolidate the code for ML pipelines. Additionally, I have created two Python scripts for loading and preparing data before preprocessing. Today, the ML team will discuss adding new scripts to the shared repository and begin working on them.


"
   ]
  },
  {
   "cell_type": "markdown",
   "metadata": {},
   "source": [
    "### Import Packages\n",
    "\n",
    "Before you get started, import a few packages."
   ]
  },
  {
   "cell_type": "code",
   "execution_count": 1,
   "metadata": {},
   "outputs": [],
   "source": [
    "import pandas as pd\n",
    "import numpy as np\n",
    "import os \n",
    "import matplotlib.pyplot as plt\n",
    "import seaborn as sns"
   ]
  },
  {
   "cell_type": "markdown",
   "metadata": {},
   "source": [
    "<b>Task:</b> In the code cell below, import additional packages that you have used in this course that you will need for this task."
   ]
  },
  {
   "cell_type": "code",
   "execution_count": 2,
   "metadata": {},
   "outputs": [],
   "source": [
    "# NN, sentiment analysis binary classification\n",
    "from sklearn.feature_extraction.text import TfidfVectorizer\n",
    "from sklearn.model_selection import train_test_split\n",
    "import tensorflow.keras as keras\n",
    "import time"
   ]
  },
  {
   "cell_type": "markdown",
   "metadata": {},
   "source": [
    "## Part 1: Load the Data Set\n",
    "\n",
    "\n",
    "You have chosen to work with one of four data sets. The data sets are located in a folder named \"data.\" The file names of the three data sets are as follows:\n",
    "\n",
    "* The \"adult\" data set that contains Census information from 1994 is located in file `adultData.csv`\n",
    "* The airbnb NYC \"listings\" data set is located in file  `airbnbListingsData.csv`\n",
    "* The World Happiness Report (WHR) data set is located in file `WHR2018Chapter2OnlineData.csv`\n",
    "* The book review data set is located in file `bookReviewsData.csv`\n",
    "\n",
    "\n",
    "\n",
    "<b>Task:</b> In the code cell below, use the same method you have been using to load your data using `pd.read_csv()` and save it to DataFrame `df`."
   ]
  },
  {
   "cell_type": "code",
   "execution_count": 3,
   "metadata": {},
   "outputs": [
    {
     "data": {
      "text/html": [
       "<div>\n",
       "<style scoped>\n",
       "    .dataframe tbody tr th:only-of-type {\n",
       "        vertical-align: middle;\n",
       "    }\n",
       "\n",
       "    .dataframe tbody tr th {\n",
       "        vertical-align: top;\n",
       "    }\n",
       "\n",
       "    .dataframe thead th {\n",
       "        text-align: right;\n",
       "    }\n",
       "</style>\n",
       "<table border=\"1\" class=\"dataframe\">\n",
       "  <thead>\n",
       "    <tr style=\"text-align: right;\">\n",
       "      <th></th>\n",
       "      <th>Review</th>\n",
       "      <th>Positive Review</th>\n",
       "    </tr>\n",
       "  </thead>\n",
       "  <tbody>\n",
       "    <tr>\n",
       "      <th>0</th>\n",
       "      <td>This was perhaps the best of Johannes Steinhof...</td>\n",
       "      <td>True</td>\n",
       "    </tr>\n",
       "    <tr>\n",
       "      <th>1</th>\n",
       "      <td>This very fascinating book is a story written ...</td>\n",
       "      <td>True</td>\n",
       "    </tr>\n",
       "    <tr>\n",
       "      <th>2</th>\n",
       "      <td>The four tales in this collection are beautifu...</td>\n",
       "      <td>True</td>\n",
       "    </tr>\n",
       "    <tr>\n",
       "      <th>3</th>\n",
       "      <td>The book contained more profanity than I expec...</td>\n",
       "      <td>False</td>\n",
       "    </tr>\n",
       "    <tr>\n",
       "      <th>4</th>\n",
       "      <td>We have now entered a second time of deep conc...</td>\n",
       "      <td>True</td>\n",
       "    </tr>\n",
       "    <tr>\n",
       "      <th>...</th>\n",
       "      <td>...</td>\n",
       "      <td>...</td>\n",
       "    </tr>\n",
       "    <tr>\n",
       "      <th>1968</th>\n",
       "      <td>I purchased the book with the intention of tea...</td>\n",
       "      <td>True</td>\n",
       "    </tr>\n",
       "    <tr>\n",
       "      <th>1969</th>\n",
       "      <td>There are so many design books, but the Graphi...</td>\n",
       "      <td>True</td>\n",
       "    </tr>\n",
       "    <tr>\n",
       "      <th>1970</th>\n",
       "      <td>I am thilled to see this book being available ...</td>\n",
       "      <td>True</td>\n",
       "    </tr>\n",
       "    <tr>\n",
       "      <th>1971</th>\n",
       "      <td>As many have stated before me the book starts ...</td>\n",
       "      <td>False</td>\n",
       "    </tr>\n",
       "    <tr>\n",
       "      <th>1972</th>\n",
       "      <td>I love this book! It is a terrific blend of ha...</td>\n",
       "      <td>True</td>\n",
       "    </tr>\n",
       "  </tbody>\n",
       "</table>\n",
       "<p>1973 rows × 2 columns</p>\n",
       "</div>"
      ],
      "text/plain": [
       "                                                 Review  Positive Review\n",
       "0     This was perhaps the best of Johannes Steinhof...             True\n",
       "1     This very fascinating book is a story written ...             True\n",
       "2     The four tales in this collection are beautifu...             True\n",
       "3     The book contained more profanity than I expec...            False\n",
       "4     We have now entered a second time of deep conc...             True\n",
       "...                                                 ...              ...\n",
       "1968  I purchased the book with the intention of tea...             True\n",
       "1969  There are so many design books, but the Graphi...             True\n",
       "1970  I am thilled to see this book being available ...             True\n",
       "1971  As many have stated before me the book starts ...            False\n",
       "1972  I love this book! It is a terrific blend of ha...             True\n",
       "\n",
       "[1973 rows x 2 columns]"
      ]
     },
     "execution_count": 3,
     "metadata": {},
     "output_type": "execute_result"
    }
   ],
   "source": [
    "#boorkReviews data and divide them into pos/neg\n",
    "filename = os.path.join(os.getcwd(), 'data', 'bookReviewsData.csv')\n",
    "df = pd.read_csv(filename, header=0)\n",
    "df"
   ]
  },
  {
   "cell_type": "markdown",
   "metadata": {},
   "source": [
    "## Part 2: Exploratory Data Analysis\n",
    "\n",
    "The next step is to inspect and analyze your data set with your machine learning problem and project plan in mind. \n",
    "\n",
    "This step will help you determine data preparation and feature engineering techniques you will need to apply to your data to build a balanced modeling data set for your problem and model. These data preparation techniques may include:\n",
    "* addressing missingness, such as replacing missing values with means\n",
    "* renaming features and labels\n",
    "* finding and replacing outliers\n",
    "* performing winsorization if needed\n",
    "* performing one-hot encoding on categorical features\n",
    "* performing vectorization for an NLP problem\n",
    "* addressing class imbalance in your data sample to promote fair AI\n",
    "\n",
    "\n",
    "Think of the different techniques you have used to inspect and analyze your data in this course. These include using Pandas to apply data filters, using the Pandas `describe()` method to get insight into key statistics for each column, using the Pandas `dtypes` property to inspect the data type of each column, and using Matplotlib and Seaborn to detect outliers and visualize relationships between features and labels. If you are working on a classification problem, use techniques you have learned to determine if there is class imbalance.\n",
    "\n",
    "\n",
    "<b>Task</b>: Use the techniques you have learned in this course to inspect and analyze your data. \n",
    "\n",
    "<b>Note</b>: You can add code cells if needed by going to the <b>Insert</b> menu and clicking on <b>Insert Cell Below</b> in the drop-drown menu."
   ]
  },
  {
   "cell_type": "code",
   "execution_count": 5,
   "metadata": {},
   "outputs": [
    {
     "data": {
      "text/plain": [
       "(1973, 2)"
      ]
     },
     "execution_count": 5,
     "metadata": {},
     "output_type": "execute_result"
    }
   ],
   "source": [
    "df.shape"
   ]
  },
  {
   "cell_type": "code",
   "execution_count": 6,
   "metadata": {},
   "outputs": [
    {
     "data": {
      "text/html": [
       "<div>\n",
       "<style scoped>\n",
       "    .dataframe tbody tr th:only-of-type {\n",
       "        vertical-align: middle;\n",
       "    }\n",
       "\n",
       "    .dataframe tbody tr th {\n",
       "        vertical-align: top;\n",
       "    }\n",
       "\n",
       "    .dataframe thead th {\n",
       "        text-align: right;\n",
       "    }\n",
       "</style>\n",
       "<table border=\"1\" class=\"dataframe\">\n",
       "  <thead>\n",
       "    <tr style=\"text-align: right;\">\n",
       "      <th></th>\n",
       "      <th>Review</th>\n",
       "      <th>Positive Review</th>\n",
       "    </tr>\n",
       "  </thead>\n",
       "  <tbody>\n",
       "    <tr>\n",
       "      <th>0</th>\n",
       "      <td>This was perhaps the best of Johannes Steinhof...</td>\n",
       "      <td>True</td>\n",
       "    </tr>\n",
       "    <tr>\n",
       "      <th>1</th>\n",
       "      <td>This very fascinating book is a story written ...</td>\n",
       "      <td>True</td>\n",
       "    </tr>\n",
       "    <tr>\n",
       "      <th>2</th>\n",
       "      <td>The four tales in this collection are beautifu...</td>\n",
       "      <td>True</td>\n",
       "    </tr>\n",
       "    <tr>\n",
       "      <th>3</th>\n",
       "      <td>The book contained more profanity than I expec...</td>\n",
       "      <td>False</td>\n",
       "    </tr>\n",
       "    <tr>\n",
       "      <th>4</th>\n",
       "      <td>We have now entered a second time of deep conc...</td>\n",
       "      <td>True</td>\n",
       "    </tr>\n",
       "  </tbody>\n",
       "</table>\n",
       "</div>"
      ],
      "text/plain": [
       "                                              Review  Positive Review\n",
       "0  This was perhaps the best of Johannes Steinhof...             True\n",
       "1  This very fascinating book is a story written ...             True\n",
       "2  The four tales in this collection are beautifu...             True\n",
       "3  The book contained more profanity than I expec...            False\n",
       "4  We have now entered a second time of deep conc...             True"
      ]
     },
     "execution_count": 6,
     "metadata": {},
     "output_type": "execute_result"
    }
   ],
   "source": [
    "df.head()"
   ]
  },
  {
   "cell_type": "code",
   "execution_count": 7,
   "metadata": {},
   "outputs": [
    {
     "data": {
      "text/plain": [
       "Review             object\n",
       "Positive Review      bool\n",
       "dtype: object"
      ]
     },
     "execution_count": 7,
     "metadata": {},
     "output_type": "execute_result"
    }
   ],
   "source": [
    "#find the columns containing string values\n",
    "df.dtypes\n",
    "\n",
    "#can skip the one-hot encode part"
   ]
  },
  {
   "cell_type": "markdown",
   "metadata": {},
   "source": [
    "## Part 3: Implement Your Project Plan\n",
    "\n",
    "<b>Task:</b> Use the rest of this notebook to carry out your project plan. You will:\n",
    "\n",
    "1. Prepare your data for your model and create features and a label.\n",
    "2. Fit your model to the training data and evaluate your model.\n",
    "3. Improve your model by performing model selection and/or feature selection techniques to find best model for your problem.\n",
    "\n",
    "\n",
    "Add code cells below and populate the notebook with commentary, code, analyses, results, and figures as you see fit.\n",
"Update : 040924 I ended up setting up the Repository regarding python and getting ready to consolidate the code ML pipelines, and also conducted two python scripts for loading and preparing data before preprocessing, and today ML team will discuss about adding new scripts on shared repos and working on it."
   ]
  },
  {
   "cell_type": "code",
   "execution_count": 8,
   "metadata": {},
   "outputs": [],
   "source": [
    "# Create Labeled Examples\n",
    "y=df['Positive Review']\n",
    "X=df['Review']"
   ]
  },
  {
   "cell_type": "code",
   "execution_count": 9,
   "metadata": {},
   "outputs": [
    {
     "data": {
      "text/plain": [
       "0    This was perhaps the best of Johannes Steinhof...\n",
       "1    This very fascinating book is a story written ...\n",
       "2    The four tales in this collection are beautifu...\n",
       "3    The book contained more profanity than I expec...\n",
       "4    We have now entered a second time of deep conc...\n",
       "Name: Review, dtype: object"
      ]
     },
     "execution_count": 9,
     "metadata": {},
     "output_type": "execute_result"
    }
   ],
   "source": [
    "#let's see the results\n",
    "X.head()"
   ]
  },
  {
   "cell_type": "code",
   "execution_count": 10,
   "metadata": {},
   "outputs": [],
   "source": [
    "#Split and Train\n",
    "# creating the data sets with 30 percent of the size and seed value of 1234\n",
    "X_train, X_test, y_train, y_test = train_test_split(X, y, train_size=.3, random_state=1234)"
   ]
  },
  {
   "cell_type": "code",
   "execution_count": 11,
   "metadata": {},
   "outputs": [
    {
     "data": {
      "text/plain": [
       "594     In Self-Hypnosis for Women C. Alexander and An...\n",
       "820     I have written software for development projec...\n",
       "1792    Amazing. One or probably the most impressive p...\n",
       "1869    The author is reusing a similar plot device th...\n",
       "1278    For years, I had heard the Akashic Records bei...\n",
       "Name: Review, dtype: object"
      ]
     },
     "execution_count": 11,
     "metadata": {},
     "output_type": "execute_result"
    }
   ],
   "source": [
    "#let's check out the train data\n",
    "X_train.head()"
   ]
  },
  {
   "cell_type": "code",
   "execution_count": 12,
   "metadata": {},
   "outputs": [],
   "source": [
    "# Impletment TF-IDF Vectorizer to tranform into text\n",
    "# transform features into numberical vectors\n",
    "tfidf_vectorizer = TfidfVectorizer()\n",
    "tfidf_vectorizer.fit(X_train)\n",
    "#transform train data\n",
    "X_train_tfidf=tfidf_vectorizer.transform(X_train)\n",
    "#transform test data\n",
    "X_test_tfidf=tfidf_vectorizer.transform(X_test)"
   ]
  },
  {
   "cell_type": "code",
   "execution_count": null,
   "metadata": {},
   "outputs": [],
   "source": [
    "# Construct a Neural Network\n",
    "# Keras process:\n",
    "# Create  NN model, input layer, first hidden layer, second hidden layer, third hidden layer and output layer\n",
    "nn_model = keras.Sequential()\n",
    "\n",
    "#check vocabulary size for input layer\n",
    "vocabulary_size = len(tfidf_vectorizer.vocabulary_)\n",
    "\n",
    "input_layer = keras.layers.Dense(vocabulary_size, input_shape=(vocabulary_size,))\n",
    "# add input_layer\n",
    "nn_model.add(input_layer)\n",
    "nn_model.add(keras.layers.Dropout(.25)) #drop layer\n",
    "hidden_layer_1 = keras.layers.Dense(units=64, activation='relu')\n",
    "nn_model.add(hidden_layer_1)\n",
    "hidden_layer_2 = keras.layers.Dense(units=32, activation='relu')\n",
    "nn_model.add(hidden_layer_2)\n",
    "hidden_layer_3 = keras.layers.Dense(units=16, activation='relu')\n",
    "nn_model.add(hidden_layer_3)\n",
    "output_layer = keras.layers.Dense(units=1, activation='sigmoid')\n",
    "nn_model.add(output_layer)\n",
    "\n",
    "#print summary\n",
    "nn_model.summary()"
   ]
  },
  {
   "cell_type": "code",
   "execution_count": 14,
   "metadata": {},
   "outputs": [],
   "source": [
    "# optimization function with 10 percent of learning rate\n",
    "sgd_optimizer = keras.optimizers.SGD(learning_rate=.1)\n",
    "# loss function\n",
    "loss_fn = keras.losses.BinaryCrossentropy(from_logits=False)\n",
    "# complie model\n",
    "nn_model.compile(optimizer=sgd_optimizer, loss=loss_fn, metrics=['accuracy'])"
   ]
  },
  {
   "cell_type": "code",
   "execution_count": 15,
   "metadata": {},
   "outputs": [],
   "source": [
    "class ProgBarLoggerNEpochs(keras.callbacks.Callback):\n",
    "    \n",
    "    def __init__(self, num_epochs: int, every_n: int = 50):\n",
    "        self.num_epochs = num_epochs\n",
    "        self.every_n = every_n\n",
    "    \n",
    "    def on_epoch_end(self, epoch, logs=None):\n",
    "        if (epoch + 1) % self.every_n == 0:\n",
    "            s = 'Epoch [{}/ {}]'.format(epoch + 1, self.num_epochs)\n",
    "            logs_s = ['{}: {:.4f}'.format(k.capitalize(), v)\n",
    "                      for k, v in logs.items()]\n",
    "            s_list = [s] + logs_s\n",
    "            print(', '.join(s_list))"
   ]
  },
  {
   "cell_type": "code",
   "execution_count": 16,
   "metadata": {},
   "outputs": [
    {
     "name": "stdout",
     "output_type": "stream",
     "text": [
      "Epoch [5/ 50], Loss: 0.6787, Accuracy: 0.5911, Val_loss: 0.6931, Val_accuracy: 0.5042\n",
      "Epoch [10/ 50], Loss: 0.6237, Accuracy: 0.7225, Val_loss: 0.6453, Val_accuracy: 0.6723\n",
      "Epoch [15/ 50], Loss: 0.5242, Accuracy: 0.7076, Val_loss: 0.5583, Val_accuracy: 0.7395\n",
      "Epoch [20/ 50], Loss: 0.5445, Accuracy: 0.7182, Val_loss: 0.5161, Val_accuracy: 0.7731\n",
      "Epoch [25/ 50], Loss: 0.3364, Accuracy: 0.8665, Val_loss: 0.4534, Val_accuracy: 0.7731\n",
      "Epoch [30/ 50], Loss: 0.0422, Accuracy: 1.0000, Val_loss: 0.4457, Val_accuracy: 0.7563\n",
      "Epoch [35/ 50], Loss: 0.0080, Accuracy: 1.0000, Val_loss: 0.4828, Val_accuracy: 0.7563\n",
      "Epoch [40/ 50], Loss: 0.0039, Accuracy: 1.0000, Val_loss: 0.4847, Val_accuracy: 0.7731\n",
      "Epoch [45/ 50], Loss: 0.0024, Accuracy: 1.0000, Val_loss: 0.5016, Val_accuracy: 0.7731\n",
      "Epoch [50/ 50], Loss: 0.0017, Accuracy: 1.0000, Val_loss: 0.5073, Val_accuracy: 0.7731\n",
      "Total time: 1272.83s\n"
     ]
    }
   ],
   "source": [
    "# fit the model on the training data\n",
    "# check time\n",
    "# start time\n",
    "st = time.time()\n",
    "num_epochs = 50\n",
    "history = nn_model.fit(x=X_train_tfidf.toarray(), y=y_train,epochs=num_epochs, verbose=0, callbacks=[ProgBarLoggerNEpochs(num_epochs, every_n=5)],\n",
    "                       validation_split=.2)\n",
    "# end time\n",
    "et = time.time()\n",
    "print('Total time: %.2fs' % (et-st))"
   ]
  },
  {
   "cell_type": "code",
   "execution_count": 17,
   "metadata": {},
   "outputs": [
    {
     "data": {
      "image/png": "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\n",
      "text/plain": [
       "<Figure size 432x288 with 1 Axes>"
      ]
     },
     "metadata": {
      "needs_background": "light"
     },
     "output_type": "display_data"
    },
    {
     "data": {
      "image/png": "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\n",
      "text/plain": [
       "<Figure size 432x288 with 1 Axes>"
      ]
     },
     "metadata": {
      "needs_background": "light"
     },
     "output_type": "display_data"
    }
   ],
   "source": [
    "#Visualize the model\n",
    "#validation loss\n",
    "plt.plot(range(1, num_epochs + 1), history.history['loss'], label='Training Loss')\n",
    "plt.plot(range(1, num_epochs + 1), history.history['val_loss'], label='Validation Loss')\n",
    "\n",
    "plt.xlabel('Epoch')\n",
    "plt.ylabel('Loss')\n",
    "plt.legend()\n",
    "plt.show()\n",
    "\n",
    "#accuracy\n",
    "plt.plot(range(1, num_epochs + 1), history.history['accuracy'], label='Training Accuracy')\n",
    "plt.plot(range(1, num_epochs + 1), history.history['val_accuracy'], label='Validation Accuracy')\n",
    "\n",
    "plt.xlabel('Epoch')\n",
    "plt.ylabel('Accuracy')\n",
    "plt.legend()\n",
    "plt.show()"
   ]
  },
  {
   "cell_type": "code",
   "execution_count": 18,
   "metadata": {},
   "outputs": [
    {
     "name": "stdout",
     "output_type": "stream",
     "text": [
      "44/44 [==============================] - 5s 112ms/step - loss: 0.6297 - accuracy: 0.7822\n",
      "Loss:  0.6297357082366943 Accuracy:  0.7821996808052063\n"
     ]
    }
   ],
   "source": [
    "#evaluate and see the results\n",
    "loss, accuracy = nn_model.evaluate(X_test_tfidf.toarray(), y_test)\n",
    "print('Loss: ', str(loss) , 'Accuracy: ', str(accuracy))"
   ]
  },
  {
   "cell_type": "code",
   "execution_count": 19,
   "metadata": {},
   "outputs": [
    {
     "name": "stdout",
     "output_type": "stream",
     "text": [
      "Predictions for the first 10 examples:\n",
      "Probability\t\t\tClass\n",
      "[0.00738296]\t\t\tBad Review\n",
      "[0.9939705]\t\t\tGood Review\n",
      "[0.92893344]\t\t\tGood Review\n",
      "[0.00707397]\t\t\tBad Review\n",
      "[0.8372295]\t\t\tGood Review\n",
      "[0.03857908]\t\t\tBad Review\n",
      "[0.00100517]\t\t\tBad Review\n",
      "[0.03494474]\t\t\tBad Review\n",
      "[0.7830941]\t\t\tGood Review\n",
      "[0.5764271]\t\t\tGood Review\n"
     ]
    }
   ],
   "source": [
    "#make predictions on the test set\n",
    "probability_predictions = nn_model.predict(X_test_tfidf.toarray())\n",
    "\n",
    "print(\"Predictions for the first 10 examples:\")\n",
    "print(\"Probability\\t\\t\\tClass\")\n",
    "for i in range(0,10):\n",
    "    if probability_predictions[i] >= .5:\n",
    "        class_pred = \"Good Review\"\n",
    "    else:\n",
    "        class_pred = \"Bad Review\"\n",
    "    print(str(probability_predictions[i]) + \"\\t\\t\\t\" + str(class_pred))"
   ]
  },
  {
   "cell_type": "code",
   "execution_count": 20,
   "metadata": {},
   "outputs": [
    {
     "name": "stdout",
     "output_type": "stream",
     "text": [
      "Review #1:\n",
      "\n",
      "This commentary has many tremendous insights into the book of Romans.  Romans is one of the richest resources of truth within the Bible and John Stoot does a good job of unpacking it.  The book is written from a framework of the reader having a strong prior understanding of the Scriptures.  It is probably not considered a highly scholarly work, but it is not for the average reader to pick up for light reading either\n",
      "\n",
      "\n",
      "Prediction: Is this a good review? True\n",
      "\n",
      "Actual: Is this a good review? True\n",
      "\n"
     ]
    }
   ],
   "source": [
    "# Let's see the results, predicted wheter good or bad riviews\n",
    "print('Review #1:\\n')\n",
    "print(X_test.to_numpy()[56])\n",
    "\n",
    "goodReview = True if probability_predictions[56] >= .5 else False\n",
    "    \n",
    "print('\\nPrediction: Is this a good review? {}\\n'.format(goodReview))\n",
    "\n",
    "print('Actual: Is this a good review? {}\\n'.format(y_test.to_numpy()[56]))"
   ]
  },
  {
   "cell_type": "code",
   "execution_count": 21,
   "metadata": {},
   "outputs": [
    {
     "name": "stdout",
     "output_type": "stream",
     "text": [
      "Review #2:\n",
      "\n",
      "I have read Baldacci's first four novels and have immensely enjoyed all of them.  This one, however, is just awful.  Not only the character's dialogue but even the story itself is written like a really bad detective movie.  The only thing I can think of to compare it to is this :  There was a series of Calvin and Hobbes cartoons where Calvin imagines himself as a private detective and they are written like the old detective shows, with lame lines like \"The gun was loaded, and so was I\".  That is exactly what this book is like, except it goes on for 400 pages.  There isn't a single interesting character in this book, in my opinion.  You just have to slog your way through the book to get to the end.  It's the Bataan Death March of novels.  I hope this is an aberration - I'll certainly give him another try since the first four novels that I read were so good.  But one more stinker like this one and I'll drop his name from my reading list\n",
      "\n",
      "\n",
      "Prediction: Is this a good review? False\n",
      "\n",
      "Actual: Is this a good review? False\n",
      "\n"
     ]
    }
   ],
   "source": [
    "print('Review #2:\\n')\n",
    "print(X_test.to_numpy()[24])\n",
    "\n",
    "goodReview = True if probability_predictions[24] >= .5 else False\n",
    "\n",
    "print('\\nPrediction: Is this a good review? {}\\n'.format(goodReview)) \n",
    "\n",
    "print('Actual: Is this a good review? {}\\n'.format(y_test.to_numpy()[24]))"
   ]
  }
 ],
 "metadata": {
  "kernelspec": {
   "display_name": "Python 3",
   "language": "python",
   "name": "python3"
  },
  "language_info": {
   "codemirror_mode": {
    "name": "ipython",
    "version": 3
   },
   "file_extension": ".py",
   "mimetype": "text/x-python",
   "name": "python",
   "nbconvert_exporter": "python",
   "pygments_lexer": "ipython3",
   "version": "3.6.9"
  },
  "toc": {
   "base_numbering": 1,
   "nav_menu": {},
   "number_sections": false,
   "sideBar": true,
   "skip_h1_title": false,
   "title_cell": "Table of Contents",
   "title_sidebar": "Contents",
   "toc_cell": false,
   "toc_position": {},
   "toc_section_display": true,
   "toc_window_display": false
  },
  "varInspector": {
   "cols": {
    "lenName": 16,
    "lenType": 16,
    "lenVar": 40
   },
   "kernels_config": {
    "python": {
     "delete_cmd_postfix": "",
     "delete_cmd_prefix": "del ",
     "library": "var_list.py",
     "varRefreshCmd": "print(var_dic_list())"
    },
    "r": {
     "delete_cmd_postfix": ") ",
     "delete_cmd_prefix": "rm(",
     "library": "var_list.r",
     "varRefreshCmd": "cat(var_dic_list()) "
    }
   },
   "types_to_exclude": [
    "module",
    "function",
    "builtin_function_or_method",
    "instance",
    "_Feature"
   ],
   "window_display": false
  }
 },
 "nbformat": 4,
 "nbformat_minor": 2
}
